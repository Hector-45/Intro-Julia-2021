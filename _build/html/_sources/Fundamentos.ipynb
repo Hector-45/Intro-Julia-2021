{
 "cells": [
  {
   "cell_type": "code",
   "execution_count": 1,
   "metadata": {},
   "outputs": [],
   "source": [
    "### A Pluto.jl notebook ###\n",
    "# v0.12.14\n",
    "using Markdown\n",
    "using InteractiveUtils\n"
   ]
  },
  {
   "cell_type": "markdown",
   "metadata": {},
   "source": [
    "# ¿Por qué Julia?\n",
    "## El problema\n",
    "El proceso de producir resultados en ciencia e ingeniería depende de múltiples etapas para las cuales, históricamente, se han requerido especialistas dedicados y apenas comunicándose sus resultados parciales para hacer funcionar un sistema.\n",
    "\n",
    "Esto, en un mundo de creciente multidisciplina e interdisciplina, se vuelve menos conveniente, pues comunicar conceptos y justificiaciones complejas entre diversos especialistas se ha hecho crucial para progresar con eficiencia una investigación y desarrollo de tecnología.\n",
    "\n",
    "## Una solución elegante\n",
    "Julia es un lenguaje de programación que es capaz de minimizar la brecha entre el concepto y el código, teniendo de ejemplo:\n",
    "```julia\n",
    "A = [∫ϕ₁² ∫ϕ₁₂;\n",
    "     ∫ϕ₁₂ ∫ϕ₂²]\n",
    "```\n",
    "para crear una matriz cuyas entradas son integrales de algunas funciones, muy común en métodos de elemento finito o métodos numéricos generales para mecánica cuántica. Este código corre perfectamente al definir los símbolos anteriores:\n",
    "```julia\n",
    "ϕ₁(x) = 1-x; ϕ₂(x) = x; \n",
    "ϕ₁²(x) = ϕ₁(x)^2; ϕ₂²(x) = ϕ₂(x)^2; ϕ₁₂(x) = ϕ₁(x)ϕ₂(x)\n",
    "∫(f) = quadgk(f,0,1)\n",
    "```\n",
    "Dejando muy en claro lo que hace el código para cualquiera que conozca los símbolos, incluso con poca experiencia con el lenguaje.\n",
    "\n",
    "Esta énfasis en legibilidad y eficiencia de escritura de código es algo que ya existe en lenguajes como Python, pero en menor grado de especialización para las ciencias y definitivamente con un costo de eficiencia de cómputo...\n",
    "\n",
    "Es por eso que rubros de la academia y tecnología persisten en utilizar lenguajes altamente eficientes como Fortran, C/C++, o incluso Octave. **Julia puede ser ambos: Legible y eficiente.** Emparejando muy de cerca velocidades de cómputo de C y Fortran (como visto [aquí](https://julialang.org/benchmarks/)), y a veces superando, sin comprometer la legibilidad o la interactividad \n",
    "\n",
    "## ¿Cómo lo logra Julia?\n",
    "Julia, a diferencia de Python, R y Octave, **no** es un lenguaje interpretado, si no compilado. No obstante, sigue siendo interactivo como estos anteriores, lo que nos permite recibir los resultados de nuestro código a tiempo real ¿Cómo lo hace?\n",
    "\n",
    "Julia utiliza un compilador [JIT](https://en.wikipedia.org/wiki/Just-in-time_compilation) (Just-In-Time) implementado en [LLVM](https://en.wikipedia.org/wiki/LLVM), que quiere decir que compila el código hasta el momento en que es necesario compilarlo y así proveer velocidades de lenguajes compilador como C/C++ pero interactividad y dinamismo de Python.\n",
    "\n",
    "Además, Julia es un lenguaje **opcionalmente tipado**, lo que quiere decir que, al igual que Python, es posible escribir código sin restringir el tipo de una variable o salida de función; incluso cambiándo su valor de tipo dinámicamente. Pero, tenemos también la opción de restringir los tipos como en C/C++ para ayudarle al compilador JIT a optimizar mejor nuestro código.\n",
    "\n",
    "Ésta y más técnicas son las utilizadas para escribir código máximalmente eficiente, pero aún tan fácil de leer y aprender como lo anteriormente mostrado.\n",
    "\n",
    "## Paradigmas y diseño del lenguaje Julia\n",
    "El diseño de Julia se puede intentar resumir en: ser de código abierto, multiparadigma y de propósito general con énfasis en cómputo científico y paralelo, conteniendo principalmente aspectos de programación funcional, imperativa y orientada a objetos; sin ser purista en ninguno. \n",
    "\n",
    "Pero no se puede hacer justicia diciendo solamente eso, pues contiene muchos aspectos únicos (si vienen de otros lenguajes de programación, ver [esta lista](https://docs.julialang.org/en/v1/manual/noteworthy-differences/)). Éstos los iremos visitando a lo largo del curso... comencemos con lo básico primero\n",
    "\n",
    "# Operaciones fundamentales y tipos primitivos\n",
    "## Aritmética básica\n",
    "\n"
   ]
  },
  {
   "cell_type": "markdown",
   "metadata": {},
   "source": [
    "Tenemos aritmética usual (`+`, `*`, `-`, `/`, `^`). A continuación ilustramo la sintaxis básica:\n"
   ]
  },
  {
   "cell_type": "code",
   "execution_count": 2,
   "metadata": {},
   "outputs": [],
   "source": [
    "5+2\n"
   ]
  },
  {
   "cell_type": "markdown",
   "metadata": {},
   "source": [
    "El resultado de sumar un float con un entero es un float. Veremos luego más sobre este proceso de promoción.\n"
   ]
  },
  {
   "cell_type": "code",
   "execution_count": 3,
   "metadata": {},
   "outputs": [],
   "source": [
    "5.0+2\n"
   ]
  },
  {
   "cell_type": "markdown",
   "metadata": {},
   "source": [
    "La multiplicación se realiza con el operador `*`, como es usual con otros lenguajes de programación\n"
   ]
  },
  {
   "cell_type": "code",
   "execution_count": 4,
   "metadata": {},
   "outputs": [],
   "source": [
    "5*3\n"
   ]
  },
  {
   "cell_type": "markdown",
   "metadata": {},
   "source": [
    "Pero notemos que, a diferencia de en otros lenguajes como Python, la exponenciación se utiliza con `^`.\n"
   ]
  },
  {
   "cell_type": "code",
   "execution_count": 5,
   "metadata": {},
   "outputs": [],
   "source": [
    "2^3\n"
   ]
  },
  {
   "cell_type": "markdown",
   "metadata": {},
   "source": [
    "Tenemos división con el operador `/`, que retorna un flotante si el resultado de la división lo amerita.\n"
   ]
  },
  {
   "cell_type": "code",
   "execution_count": 6,
   "metadata": {},
   "outputs": [],
   "source": [
    "3/2\n"
   ]
  },
  {
   "cell_type": "markdown",
   "metadata": {},
   "source": [
    "Podemos realizar también la división «al revés». Muy común en Octave/Matlab y es una sintaxis que se trasladará para el caso de matrices.\n"
   ]
  },
  {
   "cell_type": "code",
   "execution_count": 7,
   "metadata": {},
   "outputs": [],
   "source": [
    "2\\3\n"
   ]
  },
  {
   "cell_type": "markdown",
   "metadata": {},
   "source": [
    "\n",
    "## Infinitos, complejos y racionales\n",
    "\n",
    "Además de la aritmética usual, tenemos por defecto infinitos, números complejos y números racionales. Estos pueden ser resultado de las operaciones anteriores en una forma esperada por nuestros conceptos matemáticos usuales.\n",
    "\n",
    "Por ejemplo, tenemos infinitos de ambos signos:\n",
    "\n"
   ]
  },
  {
   "cell_type": "code",
   "execution_count": 8,
   "metadata": {},
   "outputs": [],
   "source": [
    "1/0\n"
   ]
  },
  {
   "cell_type": "code",
   "execution_count": 9,
   "metadata": {},
   "outputs": [],
   "source": [
    "-5/0\n"
   ]
  },
  {
   "cell_type": "markdown",
   "metadata": {},
   "source": [
    "Números complejos utilizando la palabra clave `im` (que puede escribirse con concatenación simple al número o con el operador explícito de multiplicación `*`).\n"
   ]
  },
  {
   "cell_type": "code",
   "execution_count": 10,
   "metadata": {},
   "outputs": [],
   "source": [
    "(5+2im)*(2-4im)\n"
   ]
  },
  {
   "cell_type": "markdown",
   "metadata": {},
   "source": [
    "Notemos que el infinito complejo se expresa como un infinito en su parte real y otro infinito en la parte imaginaria. \n",
    "\n",
    "Esta decisión de diseño provee un buen ejemplo de la complejidad de crear un lenguaje de programación consistente con nuestros conceptos matemáticos, como se puede ver a mayor profundidad en [esta](https://github.com/JuliaLang/julia/issues/9790) y [esta](https://github.com/JuliaLang/julia/issues/5234) discusión.\n"
   ]
  },
  {
   "cell_type": "code",
   "execution_count": 11,
   "metadata": {},
   "outputs": [],
   "source": [
    "(5+2im)/0\n"
   ]
  },
  {
   "cell_type": "markdown",
   "metadata": {},
   "source": [
    "\n",
    "Los números racionales son un tipo en sí mismo construidos con su numerador y denominador separados por `\\\\`\n",
    "\n"
   ]
  },
  {
   "cell_type": "code",
   "execution_count": 12,
   "metadata": {},
   "outputs": [],
   "source": [
    "3//4\n"
   ]
  },
  {
   "cell_type": "markdown",
   "metadata": {},
   "source": [
    "Las fracciones siempre se reducen a su forma más simple\n"
   ]
  },
  {
   "cell_type": "code",
   "execution_count": 13,
   "metadata": {},
   "outputs": [],
   "source": [
    "6//8\n"
   ]
  },
  {
   "cell_type": "markdown",
   "metadata": {},
   "source": [
    "Los siguientes son equivalentes respectivamente al «infinito racional» y el «cero racional»\n"
   ]
  },
  {
   "cell_type": "code",
   "execution_count": 14,
   "metadata": {},
   "outputs": [],
   "source": [
    "1//0, 0//2\n"
   ]
  },
  {
   "cell_type": "markdown",
   "metadata": {},
   "source": [
    "Esto se ilustra mejor a continuación:\n"
   ]
  },
  {
   "cell_type": "code",
   "execution_count": 15,
   "metadata": {},
   "outputs": [],
   "source": [
    "0//2 == 0//3 == 0, 3//0 == Inf\n"
   ]
  },
  {
   "cell_type": "markdown",
   "metadata": {},
   "source": [
    "\n",
    "## Aritmética en tipos especiales\n",
    "\n",
    "Estos tienen aritméticas propias que reflejan lo que entendemos conceptualmente de ellos. Por ejemplo, la suma y productos escalares de infinitos retornan infinitos, mientras que la división de infinitos y resta de ellos, como sabemos del cálculo básico, no son operaciones bien definidas.\n",
    "\n"
   ]
  },
  {
   "cell_type": "code",
   "execution_count": 16,
   "metadata": {},
   "outputs": [],
   "source": [
    "3*Inf+2, Inf/Inf, Inf - Inf\n"
   ]
  },
  {
   "cell_type": "markdown",
   "metadata": {},
   "source": [
    "\n",
    "Los racionales pueden sumarse y restarse, obteniendo un resultado ya en forma simplificada, aunque en caso de que el resultado sea un número entero `a`, se expresa en la forma `a//1` para preservar su tipo racional hasta que se necesite cambiar a entero de nuevo (si aun caso).\n",
    "\n"
   ]
  },
  {
   "cell_type": "code",
   "execution_count": 17,
   "metadata": {},
   "outputs": [],
   "source": [
    "1//2 + 3//2\n"
   ]
  },
  {
   "cell_type": "code",
   "execution_count": 18,
   "metadata": {},
   "outputs": [],
   "source": [
    "3*1//3\n"
   ]
  },
  {
   "cell_type": "markdown",
   "metadata": {},
   "source": [
    "Los números complejos tienen también su aritmética usual como mostrado arriba. Aquí tenemos un ejemplo con la exponenciación con base y potencia compleja:\n",
    "\n",
    "\n"
   ]
  },
  {
   "cell_type": "code",
   "execution_count": 19,
   "metadata": {},
   "outputs": [],
   "source": [
    "(im)^(im)\n"
   ]
  },
  {
   "cell_type": "markdown",
   "metadata": {},
   "source": [
    "## Tipos primitivos de datos\n",
    "Como se vio arriba, los resultados de las operaciones están ligados al tipo de dato que utilizamos. Algunos son los siguientes:\n"
   ]
  },
  {
   "cell_type": "code",
   "execution_count": 20,
   "metadata": {},
   "outputs": [],
   "source": [
    "typeof(5), typeof(100_000_000_000_000_000_000_000), typeof(5.0), typeof('c'), typeof(\"Hola\"), typeof(true)\n"
   ]
  },
  {
   "cell_type": "markdown",
   "metadata": {},
   "source": [
    "Una explicación breve de éstos tipos es:\n",
    "* `Int64`: Número entero representado en la computadora utilizando 64 bits, es decir, una cadena de 0s y 1s de tamaño 64. \n",
    "  \n",
    "   De ésta, el primero de ellos se utiliza para guardar el signo del entero, por lo que quedan 63 libres e implicando que el rango de valores de un `Int64` es entre -$2^{63}$ y $2^{63}-1$ (donde el $-1$ aparece por que los positivos incluyen al cero)\n",
    "\n",
    "\n",
    "* `Int128`: Similar al `Int64`, ahora teniendo un rango posible entre -$2^{127}$ y $2^{127}-1$\n",
    "\n",
    "\n",
    "* `Float64`: Una representación decimal finita que intenta aproximar un número real utilizando 64 bits de información. \n",
    "\n",
    "  Esto es logrado por lo que se conoce como **sistema numérico de punto flotante**. La forma en que ésta es representada en memoria es más complicada que los `Int`, pero se puede leer más [aquí](https://en.wikipedia.org/wiki/Floating-point_arithmetic)\n",
    "\n",
    "\n",
    "* `Char`: Un caracter de texto, representado mediante codificación [Unicode](https://en.wikipedia.org/wiki/Unicode). Ésto quiere decir que Julia permite desde caractéres de nuestro alfabeto usual, caractéres con tildes y diéresis, así como japoneses, coreanos y chinos, subíndices, simbología matemática, alfabeto griego, emoticones y más.\n",
    "\n",
    "\n",
    "* `String`: Una cadena de más de un caracter.\n",
    "\n",
    "\n",
    "* `Bool`: Un Booleano. Solamente puede tener dos valores: Verdadero o falso. Se utiliza para representar condiciones y controlar flujos del código.\n",
    "\n",
    "\n"
   ]
  },
  {
   "cell_type": "code",
   "execution_count": 21,
   "metadata": {},
   "outputs": [],
   "source": [
    "typeof(Int32(5)), typeof(Int16(5)), typeof(Int8(5)) \n"
   ]
  },
  {
   "cell_type": "code",
   "execution_count": 22,
   "metadata": {},
   "outputs": [],
   "source": [
    "typeof(5+2im), typeof(5.0+2im), typeof(Inf), typeof(Inf + Inf*im), typeof(5//2)\n"
   ]
  },
  {
   "cell_type": "markdown",
   "metadata": {},
   "source": [
    "Los números complejos y los números racionales son **tipos compuestos** (su estructura es construida a partir de otros más simples) al igual que, por ejemplo, los arreglos de números:\n"
   ]
  },
  {
   "cell_type": "code",
   "execution_count": 23,
   "metadata": {},
   "outputs": [],
   "source": [
    "typeof([2, 3, 5])  # Esto es un \"vector\"/arreglo unidimensional\n"
   ]
  },
  {
   "cell_type": "code",
   "execution_count": 24,
   "metadata": {},
   "outputs": [],
   "source": [
    "typeof([2 3 5])  # Esto es una \"matriz\"/arreglo bidimensional\n"
   ]
  },
  {
   "cell_type": "code",
   "execution_count": 25,
   "metadata": {},
   "outputs": [],
   "source": [
    "typeof([2.0 3.0 5.0])\n"
   ]
  },
  {
   "cell_type": "code",
   "execution_count": 26,
   "metadata": {},
   "outputs": [],
   "source": [
    "typeof([2.0 3 5]) # Esto es un arreglo de tipo Float64, al ser este un tipo superior \n",
    "                  # en la herarquía de tipos que Int64. Esto se discutirá a fondo luego\n"
   ]
  },
  {
   "cell_type": "code",
   "execution_count": 27,
   "metadata": {},
   "outputs": [],
   "source": [
    "typeof([2 3 5;\n",
    "        6 8 2])\n"
   ]
  },
  {
   "cell_type": "markdown",
   "metadata": {},
   "source": [
    "Éstos también tienen aritmética que funciona como esperaríamos...\n"
   ]
  },
  {
   "cell_type": "code",
   "execution_count": 28,
   "metadata": {},
   "outputs": [],
   "source": [
    "[1 2 4] + [3 2 1]\n"
   ]
  },
  {
   "cell_type": "code",
   "execution_count": 29,
   "metadata": {},
   "outputs": [],
   "source": [
    "[2 3; 6 8] * [1, 1]\n"
   ]
  },
  {
   "cell_type": "code",
   "execution_count": 30,
   "metadata": {},
   "outputs": [],
   "source": [
    "[3 4; 6 8]^2 # ¿Pueden encontrar más matrices con esta propiedad? :) \n",
    "\t\t\t # pista: Cayley-Hamilton  \n"
   ]
  },
  {
   "cell_type": "markdown",
   "metadata": {},
   "source": [
    "Pero ¿Cómo es que el mismo operador (``+``, ``*``, ``/``,etc.) sabe qué hacer dependiendo del tipo de dato?\n",
    "\n",
    "En julia todos los operadores son realmente funciones. Podemos encontrar sus definiciones en diversos archivos de lo que llamamos la **librería estándar** o **base** de Julia.\n"
   ]
  },
  {
   "cell_type": "code",
   "execution_count": 31,
   "metadata": {},
   "outputs": [],
   "source": [
    "@which 3.0*4.0\n"
   ]
  },
  {
   "cell_type": "code",
   "execution_count": 32,
   "metadata": {},
   "outputs": [],
   "source": [
    "@which (3+0im)*(4+0im)\n"
   ]
  },
  {
   "cell_type": "code",
   "execution_count": 33,
   "metadata": {},
   "outputs": [],
   "source": [
    "@which Float32(4.0)*Float32(2.0)\n"
   ]
  },
  {
   "cell_type": "code",
   "execution_count": 34,
   "metadata": {},
   "outputs": [],
   "source": [
    "@which 3*4\n"
   ]
  },
  {
   "cell_type": "code",
   "execution_count": 35,
   "metadata": {},
   "outputs": [],
   "source": [
    "@which [2 3; 6 8] * [1, 1]\n"
   ]
  },
  {
   "cell_type": "code",
   "execution_count": 36,
   "metadata": {},
   "outputs": [],
   "source": [
    "@which \"Hola\" * \" \" * \"mundo\"\n"
   ]
  },
  {
   "cell_type": "code",
   "execution_count": 37,
   "metadata": {},
   "outputs": [],
   "source": [
    "\"Hola\" * \" \" * \"mundo\", \"Hola\"^3\n"
   ]
  },
  {
   "cell_type": "markdown",
   "metadata": {},
   "source": [
    "Para dejar más en claro que los operadores son funciones, podemos notar que podemos operar de la siguiente manera, muy similar a los lenguajes basado en Lisp\n",
    "\n",
    "Tengan muy en mente esta noción, pues resultará claro luego que es uno de los pilares de diseño más importantes de Julia.\n"
   ]
  },
  {
   "cell_type": "code",
   "execution_count": 38,
   "metadata": {},
   "outputs": [],
   "source": [
    "*(5,3,2)\n"
   ]
  },
  {
   "cell_type": "code",
   "execution_count": 39,
   "metadata": {},
   "outputs": [],
   "source": [
    "+(3,5,2,1,5)\n"
   ]
  },
  {
   "cell_type": "code",
   "execution_count": 40,
   "metadata": {},
   "outputs": [],
   "source": [
    "^(3, 2)\n"
   ]
  },
  {
   "cell_type": "markdown",
   "metadata": {},
   "source": [
    "Para poder indagar mejor en cómo están definidos estos operadores, y cualquier parte de código de Julia, se pueden utilizar **macros** como `@edit` o `@doc`:\n"
   ]
  },
  {
   "cell_type": "code",
   "execution_count": 41,
   "metadata": {},
   "outputs": [],
   "source": [
    "@doc 4*5\n"
   ]
  },
  {
   "cell_type": "markdown",
   "metadata": {},
   "source": [
    "# Variables y funciones\n",
    "\n",
    "## Sintaxis básica\n",
    "Como mencionado anteriormente, Julia prioritiza y enfoca mucho la legibilidad del código. Esto es en gran parte posible gracias a lo expresivos que pueden ser los nombres y definiciones de variables y funciones.\n",
    "\n",
    "Por ejemplo, imaginemos que queremos llevar registro del número de conejitos y lobos en una zona en particular.\n"
   ]
  },
  {
   "cell_type": "code",
   "execution_count": 42,
   "metadata": {},
   "outputs": [],
   "source": [
    "🐰 = 5; 🐺 = 2;\n"
   ]
  },
  {
   "cell_type": "markdown",
   "metadata": {},
   "source": [
    "Esta además es una buena oportunidad para ver cómo Pluto puede utilizarse como un editor reactivo...\n"
   ]
  },
  {
   "cell_type": "code",
   "execution_count": 43,
   "metadata": {},
   "outputs": [],
   "source": [
    "🐰 + 1 \n"
   ]
  },
  {
   "cell_type": "code",
   "execution_count": 44,
   "metadata": {},
   "outputs": [],
   "source": [
    "2*🐺\n"
   ]
  },
  {
   "cell_type": "markdown",
   "metadata": {},
   "source": [
    "Por supuesto, también podemos tener variables con nombres más usuales\n"
   ]
  },
  {
   "cell_type": "code",
   "execution_count": 45,
   "metadata": {},
   "outputs": [],
   "source": [
    "x = 5\n"
   ]
  },
  {
   "cell_type": "markdown",
   "metadata": {},
   "source": [
    "Aquí en pluto, debido a la reactividad del cuaderno, no podemos definir más de una sola variable por celda a menos que, como anteriormente, utilicemos punto y coma (`;`) o esto que llamamos un bloque `begin`$-$`end`, que compone varias **expresiones** en una sola **expresión compuesta**. Hablaremos más de ello luego.\n"
   ]
  },
  {
   "cell_type": "code",
   "execution_count": 46,
   "metadata": {},
   "outputs": [],
   "source": [
    "begin\n",
    "\tx₀ = 0 \n",
    "\tx₁ = 0 \n",
    "\tx₂ = 1\n",
    "end\n"
   ]
  },
  {
   "cell_type": "markdown",
   "metadata": {},
   "source": [
    "La notación para crear funciones es bastante flexible. La siguiente es una forma estándar en muchos lenguajes de programación.\n"
   ]
  },
  {
   "cell_type": "code",
   "execution_count": 47,
   "metadata": {},
   "outputs": [],
   "source": [
    "function sumaUno(x)\n",
    "\treturn(x+1)\n",
    "end\n"
   ]
  },
  {
   "cell_type": "code",
   "execution_count": 48,
   "metadata": {},
   "outputs": [],
   "source": [
    "sumaUno(5)\n"
   ]
  },
  {
   "cell_type": "markdown",
   "metadata": {},
   "source": [
    "Esta misma función puede, de manera más sucinta, expresarse como lo haríamos en papel\n"
   ]
  },
  {
   "cell_type": "code",
   "execution_count": 49,
   "metadata": {},
   "outputs": [],
   "source": [
    "f(x) = x+1\n"
   ]
  },
  {
   "cell_type": "code",
   "execution_count": 50,
   "metadata": {},
   "outputs": [],
   "source": [
    "f(5)\n"
   ]
  },
  {
   "cell_type": "markdown",
   "metadata": {},
   "source": [
    "Una tercera forma de hacerlo es:\n"
   ]
  },
  {
   "cell_type": "code",
   "execution_count": 51,
   "metadata": {},
   "outputs": [],
   "source": [
    "OtraForma(x) = begin\n",
    "\tx+1\n",
    "end\n"
   ]
  },
  {
   "cell_type": "markdown",
   "metadata": {},
   "source": [
    "Esta es una combinación entre la claridad en el nombre de la variable del segundo método y la capacidad de tener un bloque grande de instrucciones entre el `begin` y `end`.\n"
   ]
  },
  {
   "cell_type": "code",
   "execution_count": 52,
   "metadata": {},
   "outputs": [],
   "source": [
    "x->x+1\n"
   ]
  },
  {
   "cell_type": "markdown",
   "metadata": {},
   "source": [
    "Ésta última forma de definir funciones se engloba como un tipo de función llamado **funciones anónimas**. Éste nombre debido a que estas funciones no **necesitan** un nombre para ser evaluadas:\n"
   ]
  },
  {
   "cell_type": "code",
   "execution_count": 53,
   "metadata": {},
   "outputs": [],
   "source": [
    "(x->x+1)(5)\n"
   ]
  },
  {
   "cell_type": "markdown",
   "metadata": {},
   "source": [
    "Aunque pueden igual guardarse dentro de una variable para darles nombre si uno lo desea...\n"
   ]
  },
  {
   "cell_type": "code",
   "execution_count": 54,
   "metadata": {},
   "outputs": [],
   "source": [
    "función_desanonimizada = x->x+1\n"
   ]
  },
  {
   "cell_type": "markdown",
   "metadata": {},
   "source": [
    "\n",
    "## Mejorando la legibilidad de las funciones\n",
    "\n",
    "A diferencia de en otros lenguajes, para definir funciones dependientes de una variable `x`, Julia permite anteponer objetos numéricos y implicar multiplicación, similar a cómo escribiríamos en un papel:\n"
   ]
  },
  {
   "cell_type": "code",
   "execution_count": 55,
   "metadata": {},
   "outputs": [],
   "source": [
    "g(x) = 2x^2 + 3x + 1\n"
   ]
  },
  {
   "cell_type": "markdown",
   "metadata": {},
   "source": [
    "\n",
    "Esto es solo un ejemplo de las interconexión natural que obtenemos entre las notaciones estándar y sintaxis de Julia, veamos más a continuación: \n",
    "\n"
   ]
  },
  {
   "cell_type": "code",
   "execution_count": 56,
   "metadata": {},
   "outputs": [],
   "source": [
    "f₁(x) = x + 2; f₂(x) = x + 1;\n"
   ]
  },
  {
   "cell_type": "code",
   "execution_count": 57,
   "metadata": {},
   "outputs": [],
   "source": [
    "(f₁∘f₂)(2) \n"
   ]
  },
  {
   "cell_type": "markdown",
   "metadata": {},
   "source": [
    "\n",
    "Lo anterior evalúa primero $f₂(2) = 2 + 1 = 3$, y ese resultado lo evalúa en la función $f₁$. Es decir, el resultado será $f₁(3) = 3 + 2 = 5$. Un ejemplo de **composición de funciones**.\n",
    "\n"
   ]
  },
  {
   "cell_type": "code",
   "execution_count": 58,
   "metadata": {},
   "outputs": [],
   "source": [
    "3 ÷ 2, 123551 ÷ 19723\n"
   ]
  },
  {
   "cell_type": "markdown",
   "metadata": {},
   "source": [
    "\n",
    "El símbolo de división literal, ÷ (ingresado mediante la escritura de `\\div`, como en $\\LaTeX$, seguida por `<TAB>`), realiza una división entera. Es decir, devuelve la parte entera del resultado de dividir dos números.\n",
    "\n",
    "Todos los símbolos permitidos por Julia se pueden encontrar en [esta lista](https://docs.julialang.org/en/v1/manual/unicode-input/)\n",
    "\n"
   ]
  },
  {
   "cell_type": "code",
   "execution_count": 59,
   "metadata": {},
   "outputs": [],
   "source": [
    "5 ≈ 10, 5 ≈ 5.1, 5 ≈ 5 - eps(Float64)\n"
   ]
  },
  {
   "cell_type": "markdown",
   "metadata": {},
   "source": [
    "\n",
    "Tenemos un símbolo de aproximación (`\\approx + <TAB>`) para comparar cantidades flotantes y considerarlas equivalentes si difieren en alguna *pequeña* cantidad respecto a lo que la precisión de punto flotante considera pequeño (dependiendo de qué tipo de flotante se utiliza, qué tan cercano estamos de 0, etc.)\n",
    "\n"
   ]
  },
  {
   "cell_type": "code",
   "execution_count": 60,
   "metadata": {},
   "outputs": [],
   "source": [
    "√16, √(5^2 - 3^2), 4 ≠ 5\n"
   ]
  },
  {
   "cell_type": "markdown",
   "metadata": {},
   "source": [
    "\n",
    "Y por supuesto podemos utilizar el símbolo de raíz cuadrada (`\\sqrt + <TAB>`) para ejecutar dicha operación y el símbolo de no igualdad (`\\ne + <TAB>`) para verificar objetos diferentes.\n",
    "\n",
    "Las posibilidades son ilimitadas, pues podemos siempre definir cualquier operación como algún símbolo de la lista unicode mostrada anteriormente.\n",
    "\n"
   ]
  },
  {
   "cell_type": "code",
   "execution_count": 61,
   "metadata": {},
   "outputs": [],
   "source": [
    "⨳(a,b) = (3a+b^2) # ¡Los paréntesis son importantes para que sea `infix`! \n"
   ]
  },
  {
   "cell_type": "code",
   "execution_count": 62,
   "metadata": {},
   "outputs": [],
   "source": [
    "4 ⨳ 5 # 3(4) + 5^2 = 12 + 25 = 37 \n"
   ]
  },
  {
   "cell_type": "markdown",
   "metadata": {},
   "source": [
    "Noten que por defecto los operadores definidos de esta manera serán (la mayor parte del tiempo) asociativos hacia la izquierda. El cómo generar asociatividad derecha y entender mejor ésta decisión de diseño se puede lograr visitando [esta discusión](https://discourse.julialang.org/t/is-there-any-way-to-make-custom-binary-infix-operators-right-associative/3202/4).\n"
   ]
  },
  {
   "cell_type": "code",
   "execution_count": 63,
   "metadata": {},
   "outputs": [],
   "source": [
    "4 ⨳ (5 ⨳ 1) == 4 ⨳ 5 ⨳ 1, (4 ⨳ 5) ⨳ 1 == 4 ⨳ 5 ⨳ 1\n"
   ]
  },
  {
   "cell_type": "markdown",
   "metadata": {},
   "source": [
    "\n",
    "## Determinación de tipos en las funciones\n",
    "\n",
    "Observemos las siguientes dos funciones:\n",
    "\n"
   ]
  },
  {
   "cell_type": "code",
   "execution_count": 64,
   "metadata": {},
   "outputs": [],
   "source": [
    "function duplicadorDeTexto(texto) \n",
    "\treturn(texto*texto)\n",
    "end\n"
   ]
  },
  {
   "cell_type": "code",
   "execution_count": 65,
   "metadata": {},
   "outputs": [],
   "source": [
    "function alPoderDeDos(n)\n",
    "\treturn(n*n)\n",
    "end\n"
   ]
  },
  {
   "cell_type": "markdown",
   "metadata": {},
   "source": [
    "Su nombre, así como el de sus argumentos, documenta bien qué es lo que las funciones pretenden hacer. No obstante, ¿Realmente necesitamos dos funciones?\n"
   ]
  },
  {
   "cell_type": "code",
   "execution_count": 66,
   "metadata": {},
   "outputs": [],
   "source": [
    "duplicadorDeTexto(\"Hola\"), duplicadorDeTexto(3)\n"
   ]
  },
  {
   "cell_type": "markdown",
   "metadata": {},
   "source": [
    "\n",
    "Por supuesto, aunque `3` no es texto, fue procesado por la función ya que la operación `*` está bien definida para enteros. De hecho, la función `alPoderDeDos` es idéntica a `duplicadorDeTexto` en cuanto a lógica.\n",
    "\n",
    "No obstante, a veces es muy útil especificar el tipo o tipos de datos para los cuales queremos procesar nuestra función. Esto se hace de la siguiente manera:\n",
    "\n"
   ]
  },
  {
   "cell_type": "code",
   "execution_count": 67,
   "metadata": {},
   "outputs": [],
   "source": [
    "function duplicador(texto::String)\n",
    "\treturn(texto*texto)\n",
    "end\n"
   ]
  },
  {
   "cell_type": "code",
   "execution_count": 68,
   "metadata": {},
   "outputs": [],
   "source": [
    "duplicador(3)\n"
   ]
  },
  {
   "cell_type": "markdown",
   "metadata": {},
   "source": [
    "\n",
    "Si nosotros quisieramos proveer la funcionalidad también para los números \n",
    "\n"
   ]
  },
  {
   "cell_type": "markdown",
   "metadata": {},
   "source": [
    "\n",
    "## Broadcasting\n",
    "\n",
    "Una función definida aparentemente para un número individual puede ser evaluada en objetos como vectores y matrices utilizando el operador de **broadcasting** (o difusión), '`.`', de la siguiente manera:\n"
   ]
  },
  {
   "cell_type": "code",
   "execution_count": 69,
   "metadata": {},
   "outputs": [],
   "source": [
    "g.([1,2,4])\n"
   ]
  },
  {
   "cell_type": "code",
   "execution_count": 70,
   "metadata": {},
   "outputs": [],
   "source": [
    "g.([1 2 4; 3 5 6])\n"
   ]
  },
  {
   "cell_type": "markdown",
   "metadata": {},
   "source": [
    "El broadcast también puede ser aplicado operación por operación desde la definición de la función:\n"
   ]
  },
  {
   "cell_type": "code",
   "execution_count": 71,
   "metadata": {},
   "outputs": [],
   "source": [
    "g₂(x) = 2x.^2 .+ 3x .+ 1\n"
   ]
  },
  {
   "cell_type": "code",
   "execution_count": 72,
   "metadata": {},
   "outputs": [],
   "source": [
    "g₂([1 2 4; 3 5 6])\n"
   ]
  }
 ],
 "metadata": {
  "hide_input": false,
  "kernelspec": {
   "display_name": "Julia 1.5.1",
   "language": "julia",
   "name": "julia-1.5"
  },
  "language_info": {
   "file_extension": ".jl",
   "mimetype": "application/julia",
   "name": "julia",
   "version": "1.5.1"
  },
  "toc": {
   "base_numbering": 1,
   "nav_menu": {},
   "number_sections": true,
   "sideBar": true,
   "skip_h1_title": false,
   "title_cell": "Table of Contents",
   "title_sidebar": "Contents",
   "toc_cell": false,
   "toc_position": {},
   "toc_section_display": true,
   "toc_window_display": false
  },
  "varInspector": {
   "cols": {
    "lenName": 16,
    "lenType": 16,
    "lenVar": 40
   },
   "kernels_config": {
    "python": {
     "delete_cmd_postfix": "",
     "delete_cmd_prefix": "del ",
     "library": "var_list.py",
     "varRefreshCmd": "print(var_dic_list())"
    },
    "r": {
     "delete_cmd_postfix": ") ",
     "delete_cmd_prefix": "rm(",
     "library": "var_list.r",
     "varRefreshCmd": "cat(var_dic_list()) "
    }
   },
   "types_to_exclude": [
    "module",
    "function",
    "builtin_function_or_method",
    "instance",
    "_Feature"
   ],
   "window_display": false
  }
 },
 "nbformat": 4,
 "nbformat_minor": 2
}
