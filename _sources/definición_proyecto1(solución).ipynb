{
    "cells": [
    {
 	    "cell_type": "markdown", 
 	    "source": [ 
 		"# definición_proyecto1(solución)" 
 	    ], 
 	    "metadata": {} 
	},
        {
            "cell_type": "markdown",
            "source": [
                "\n",
                "## PROYECTO 1\n",
                "\n",
                "#### Descripción\n",
                "Se escribirá un código para visualizar diferentes familias del conjunto de Julia y Mandelbrot, en el proceso se modelarán diversas formas biológicas. Ambos conjuntos se forman a partir del estudio de ciertas funciones, $f_c$, sobre las cuales se iteran los números complejos. La notación para la función, $f_c$, denota que ésta depende de un parámetro $c \\in C$.\n",
                "\n",
                "El conjunto de Julia $J_{f_c}$, para una constante $c$ particular, está formado por todos aquellos puntos del plano complejo en el cual la sucesión siguiente es acotada:\n",
                "\n",
                "$$z_0=z$$\n",
                "$$z_{n+1}=f_c(z_n)$$\n",
                "\n",
                "\n",
                "El conjunto de Mandelbrot $M_{f_c}$, de forma similar, está formado por el conjunto de puntos del plano complejo, en el cual $c$ pertenece al conjunto si la siguiente sucesión es acotada:\n",
                "\n",
                "$$z_0=0$$\n",
                "$$z_{n+1}=f_c(z_n)$$\n",
                "\n",
                "El conjunto de puntos que resulta de la sucesión, para cada $z$ implicado, se conoce como la órbita de $z$ por $f_c$. Para determinar los elementos de una familia del conjunto de $J_{f_c}$ y $M_{f_c}$, se utiliza un método iterativo, verificando el criterio convergencia siguiente, en cada paso de la iteración donde se obtiene un elemento de la órbita:\n",
                "\n",
                "$$|z_n|<2$$\n",
                "\n",
                "Si en algún punto de la iteración no se cumple el criterio, el punto del plano complejo analizado no pertenece al conjunto. \n",
                "\n",
                "El conjunto de Julia y Mandelbrot están dados por una familia muy popular de sistemas dinámicos complejos, esto es la familia de polinomios cuadráticos complejos:\n",
                "\n",
                "$$f_c=z^2+c$$\n",
                "\n",
                "Formas biológicas han sido representadas mediante procesos iterativos, como el descrito anteriormente. Pero, empleando un conjunto de funciones $(f_c)$ más complejas que las estudiadas en los conjuntos de Julia y Mandelbrot. A continuación, se listan algunas de las funciones usadas para reproducir formas biológicas:\n",
                "\n",
                "$$f_1(z,c)=sin(z)+z^2+c$$\n",
                "$$f_2(z,c)=z^z+z^6+c$$\n",
                "$$f_3(z,c)=z^z+z^6+c$$\n",
                "$$f_4(z,c)=z^5+c$$\n",
                "$$f_5(z,c)=z^3+c$$\n",
                "\n",
                "La iteración es realizada hasta que la magnitud de la componente real e imaginaria de los elementos de la órbita sobrepasa un determinado valor $\\tau$ (un valor puede ser $\\tau=100$), esto significa que el proceso iterativo se mentiene mientras se cumpla que la parte real o imaginaria satisfacen la condición:\n",
                "\n",
                "$$|Re(z_n)|<\\tau$$ \n",
                "\n",
                "$$|Im(z_n)|<\\tau$$\n",
                "\n",
                "Una manera de graficar los conjuntos de Julia, Mandelbrot y las formas biológicas, es graficar solamente los puntos que pertenecen al conjunto con un color determinado (monocromático). \n",
                "\n",
                "Para agregar colores a los gráficos, generalmente se utiliza el algoritmo de: Tiempo de Escape, aunque no es el único. El algoritmo consiste en asignar un color dependiendo del número de iteraciones realizadas antes que el elemento de la órbita no satisfaga el criterio de convergencia. De esta manera se visualiza aquellos elementos que pertenecen al conjunto y los que no, además, revela la velocidad de divergencia de la órbita en cada punto. \n",
                "\n",
                "#### Requisitos\n",
                "Para el desarrollo del proyecto deberá utilizar solamente los elementos abarcados en la primera semana del workshop, esto es, el uso de: estructuras de datos y control, tipos de datos primitivos del lenguaje. Por lo que **no utilizará** ningún paquete adicional, creado o desarrollado por la comunidad de Julia, a excepción del paquete Plots.\n",
                "\n",
                "Para completar este proyecto deberá realizar los siguientes items:\n",
                "1. \\* Graficar un conjunto de Julia, para un $c$ arbitrario (monocromático). \n",
                "2. \\* Graficar el conjunto de Mandelbrot (monocromático).\n",
                "3. \\* Graficar una forma biológica, par un c arbitrario (monocromático).\n",
                "4. \\* Hacer una gráfica a color del conjunto de Mandelbrot usando el algoritmo de Tiempo de Escape.\n",
                "5. Realizar una gráfica a color para un conjunto de Julia, para un $c$ arbitrario .\n",
                "6. Realizar una gráfica a color para una forma biológica.\n",
                "7. Completar un ejercicio que forma parte de los  challenges problems.\n",
                "\n",
                "Para realizar las gráficas, deberá tomar en cuenta el uso de 'structs' para representar estructuras de datos particulares y también el uso de 'multiple dispatch'. Todo item marcado con (\\*) indica que es obligatorio.\n",
                "\n",
                "#### Criterios de Evaluación\n",
                "Durante la evaluación del proyecto se tomarán en cuenta los siguientes aspectos:\n",
                "- Cumplimiento de los requerimientos mencionados.\n",
                "- Claridad y orden el código presentado.\n",
                "- Completitud del proyecto, haciendo todas las partes que lo componen.\n",
                "- Analizar y comentar el trabajo de otros grupos.\n",
                "\n"
            ],
            "metadata": {}
        },
        {
            "cell_type": "markdown",
            "source": [
                "\n",
                "---------\n",
                "###### AYUDA\n",
                "---------\n",
                "######## Gráficas\n",
                "Para realizar las gráficas se utilizará el paquete Plots, por lo tanto el paquete debe ser importado:\n",
                "\n"
            ],
            "metadata": {}
        },
        {
            "outputs": [],
            "cell_type": "code",
            "source": [
                "using Plots\n",
                "",
                ""
            ],
            "metadata": {},
            "execution_count": 148
        },
        {
            "cell_type": "markdown",
            "source": [
                "\n",
                "A continuación se mostrarán ejemplos para realizar gráficas con el paquete, los cuales pueden usarse para mostrar las formas biológicas y los conjuntos de Julia y Mandelbrot, una vez se hayan obtenido los datos necesarios.\n",
                "\n",
                "Gráfico de números complejos:\n",
                "\n"
            ],
            "metadata": {}
        },
        {
            "outputs": [],
            "cell_type": "code",
            "source": [
                "begin\n",
                "\tr = 2\t\n",
                "\tzcomplejo = [r*cos(θ)+r*sin(θ)*im for θ in 0:0.3:2*pi]\n",
                "\tscatter(zcomplejo,seriescolor=:white,markerstrokecolor=:blue,aspectratio=1,title=\"Gráfica de Ejemplo\")\n",
                "end\n",
                "",
                ""
            ],
            "metadata": {},
            "execution_count": 149
        },
        {
            "cell_type": "markdown",
            "source": [
                "\n",
                "Para colorear los gráficos del conjunto de Julia, Mandelbrot y las formas biológicas, utilizando el algoritmo de Tiempo de Escape,  se pueden utilizar mapas de calor. \n",
                "\n"
            ],
            "metadata": {}
        },
        {
            "outputs": [],
            "cell_type": "code",
            "source": [
                "begin\n",
                "\tx = -2:0.3:2  \n",
                "\ty = -2:0.3:2\n",
                "\tcolores = [i₁*i₂ for i₁ in x, i₂ in y]\n",
                "\theatmap(x,y,colores,color=cgrad([:black,:blue,:white]),title=\"Ejemplo Mapa de Calor\",xlabel=\"Re(z)\",ylabel=\"Im(z)\")\n",
                "end\n",
                "",
                ""
            ],
            "metadata": {},
            "execution_count": 150
        },
        {
            "cell_type": "markdown",
            "source": [
                "\n",
                "Para el mapa de calor, se necesita hacer una malla (las listas 'x' y 'y' del ejemplo anterior) y una matriz donde se guardan los valores que definen el color para cada punto de la malla.\n",
                "\n",
                "######## Pseudocódigo\n",
                "Para clarificar los pasos a realizar, se muestra el siguiente algoritmo, cuando se desee obtener un gráfico con colores:\n",
                "\n",
                "*NOTAS:* \n",
                "- Se utilizan algunas funciones que pertenecen al core y base de Julia, si no conoce o intuye su uso averigue sobre la función mediante `?<nombre_función>` o `methods(<nombre_función>)`.\n",
                "- Usar `test_convergencia = b` para la creación de formas biológicas.\n",
                "- Las variables rz, iz son las componentes real imaginaria del número complejo respectivamente, que define un punto de la región del plano complejo por analizar.\n",
                "- La variable i es el contador del número de iteraciones.\n",
                "- c y z representan números complejos.\n",
                "\n",
                "~~~julia\n",
                "1  Para rz = -2:0.3:2 Hacer ##Elección del rango puede ser diferente\t\n",
                "2  \t  Para iz = -2:0.3:2 Hacer ##Elección del rango puede ser diferente\t\n",
                "3\t\tz = complex(rz,iz)\n",
                "4\t\t##La precisión de la imagen es mejor si incrementa las iteraciones\n",
                "5\t\tPara i = 1:30 \n",
                "6\t\t\tz = f(z) + c\n",
                "7\t\t\t##Se verfica que z = complex(rz,iz) esté en el conjunto\n",
                "8\t\t\t##T depende del conjunto que se desea graficar\n",
                "9\t\t\tSi abs(z) > T Entonces break Fin \n",
                "10\t   \tFin\n",
                "11\t\tcolor = i ##Indica la velocidad de divergencia de la orbita\n",
                "12\t\tSi test_convergencia = a Entonces \n",
                "13\t\t\tGraficar punto en (rz,iz,color) \n",
                "14\t\tFin\n",
                "15\t\tSi test_convergencia = b Entonces \n",
                "16\t\t\tSi real(z) < T || imag(z) < T Entonces\n",
                "17\t\t\t\tGraficar punto en (rz,iz,color) \n",
                "18\t\t\tFin\n",
                "19\t\tFin\n",
                "20\t  Fin\n",
                "21  Fin\n",
                "~~~\n",
                "\n"
            ],
            "metadata": {}
        },
        {
            "cell_type": "markdown",
            "source": [
                "\n",
                "## Solución\n",
                "\n"
            ],
            "metadata": {}
        },
        {
            "cell_type": "markdown",
            "source": [
                "\n",
                "La solución del problema planteado puede seguir un camino diferente, pero siempre basado en el algoritmo proporcionado. Para completar la parte obligatoria de este proyecto rellene las partes que están incompletas de este documento, tome en cuenta la signatura de las funciones descritas y lo que esta debe hacer. A medida avance en el documento haga uso de las definiciones previas donde sea conveniente.\n",
                "\n"
            ],
            "metadata": {}
        },
        {
            "cell_type": "markdown",
            "source": [
                "\n",
                "#### Definición de objetos y funciones\n",
                "\n"
            ],
            "metadata": {}
        },
        {
            "cell_type": "markdown",
            "source": [
                "\n",
                "+ A continuación construya un struct Grilla, donde se defina la región del plano complejo que debe ser analizado (límites en las abcisas y ordenadas) y el espacio entre cada punto de la grilla.\n",
                "\n"
            ],
            "metadata": {}
        },
        {
            "outputs": [],
            "cell_type": "code",
            "source": [
                "\"\"\"\n",
                "Representa un objeto grilla\n",
                "\"\"\"\n",
                "struct Grid{T<:Real}\n",
                "\txᵢ::T\n",
                "\txₛ::T\n",
                "\tyᵢ::T\n",
                "\tyₛ::T\n",
                "\tstp::T\n",
                "end\n",
                "",
                ""
            ],
            "metadata": {},
            "execution_count": 151
        },
        {
            "cell_type": "markdown",
            "source": [
                "\n",
                "+ Defina una función que cree una matriz de rangos para los ejes de las abcisas y ordenas. \n",
                "\n"
            ],
            "metadata": {}
        },
        {
            "outputs": [],
            "cell_type": "code",
            "source": [
                "\"\"\"\n",
                "\tmakeGrid(g::Grid)\n",
                "Crear una matriz de rangos [rango_abcisas,rango_ordenadas]\n",
                "\"\"\"\n",
                "function makeGrid(g::Grid)\n",
                "\treturn [g.xᵢ:g.stp:g.xₛ g.yᵢ:g.stp:g.yₛ]\n",
                "end\n",
                "",
                ""
            ],
            "metadata": {},
            "execution_count": 152
        },
        {
            "cell_type": "markdown",
            "source": [
                "\n",
                "+ Defina funciones de una línea para las formas biológicas y la familia de polinomios cuadráticos complejos \n",
                "\n"
            ],
            "metadata": {}
        },
        {
            "outputs": [],
            "cell_type": "code",
            "source": [
                "begin\n",
                "\tfⱼₘ(z::Complex,c::Complex) = z^2 + c\n",
                "\tf₁(z::Complex,c::Complex)=sin(z)+z^2+c\n",
                "\tf₂(z::Complex,c::Complex)=z^z+z^6+c\n",
                "\tf₃(z::Complex,c::Complex)=z^z+z^6+c\n",
                "\tf₄(z::Complex,c::Complex)=z^5+c\n",
                "\tf₅(z::Complex,c::Complex)=z^3+c\n",
                "end\n",
                "",
                ""
            ],
            "metadata": {},
            "execution_count": 153
        },
        {
            "cell_type": "markdown",
            "source": [
                "\n",
                "+ Defina una función que retorne `true` si el criterio de convergencia para los conjuntos $J_{_c}$ y $M_{f_c}$ se cumple, `false` en caso contrario.\n",
                "\n"
            ],
            "metadata": {}
        },
        {
            "outputs": [],
            "cell_type": "code",
            "source": [
                "\"\"\"\n",
                "\ttestJM(z::Complex)\n",
                "Comprobar el criterio de convergencia para los conjuntos de Julia y Mandelbrot\n",
                "\"\"\"\n",
                "function testJM(z::Complex)\n",
                "\tif abs(z) < 2\n",
                "\t\treturn true\n",
                "\telse \n",
                "\t\treturn false\n",
                "\tend\n",
                "end\n",
                "",
                ""
            ],
            "metadata": {},
            "execution_count": 154
        },
        {
            "cell_type": "markdown",
            "source": [
                "\n",
                "+ Defina una función que `true` si el criterio de convergencia para las formas biológicas se cumple, `false` en caso contrario.\n",
                "\n"
            ],
            "metadata": {}
        },
        {
            "outputs": [],
            "cell_type": "code",
            "source": [
                "\"\"\"\n",
                "\ttestbiomorph(z::Complex,τ::Real)\n",
                "Comprobar el criterio de convergencia para los conjuntos de Julia y Mandelbrot\n",
                "\"\"\"\n",
                "function testbiomorph(z::Complex,τ::Real)\n",
                "\tif ( abs(z) < τ && ( abs(real(z))<τ || abs(imag(z))<τ ) )\n",
                "\t\treturn true\n",
                "\telse \n",
                "\t\treturn false\n",
                "\tend\n",
                "end\n",
                "",
                ""
            ],
            "metadata": {},
            "execution_count": 155
        },
        {
            "cell_type": "markdown",
            "source": [
                "\n",
                "+ Defina una función que itere un número sobre una función $f_c$ y devuelva true si se cumple el criterio de divergencia para $J_{f_c}$, $M_{f_c}$ y formas biológicas\n",
                "\n"
            ],
            "metadata": {}
        },
        {
            "outputs": [],
            "cell_type": "code",
            "source": [
                "\"\"\"\n",
                "\titerate(test::Function,f::Function,z::Complex,iter::Integer)\n",
                "Interar z sobre una funcion f\n",
                "\"\"\"\n",
                "function iterate(test::Function,f::Function,z::Complex,iter::Integer)\n",
                "\tfor i in 1:iter\n",
                "\t\tz = f(z,c)\n",
                "\t\tif !test(z)\n",
                "\t\t\treturn false\n",
                "\t\t\tbreak\n",
                "\t\tend\n",
                "\tend \n",
                "end\n",
                "",
                ""
            ],
            "metadata": {},
            "execution_count": 156
        },
        {
            "cell_type": "markdown",
            "source": [
                "\n",
                "+ Defina un función que devuelva el número de iteraciones realizadas para un dado z (número complejo), hasta que se no se cumple el criterio de divergencia.\n",
                "\n"
            ],
            "metadata": {}
        },
        {
            "outputs": [],
            "cell_type": "code",
            "source": [
                "\"\"\"\n",
                "\tcolormap(f::Function,test::Function,z::Complex,c::Complex,iter::Integer)\n",
                "Retornar el número de iteraciones para un valor dado de z minetras un criterio de convergencia sea válido\n",
                "\"\"\"\n",
                "function colormap(f::Function,test::Function,z::Complex,c::Complex,iter::Integer)\n",
                "\tcolor = 0\n",
                "\tfor i in 1:iter\n",
                "\t\tz = f(z,c)\n",
                "\t\tif !test(z)\n",
                "\t\t\tcolor = i\n",
                "\t\t\tbreak\n",
                "\t\tend\n",
                "\tend \n",
                "\treturn color\n",
                "end\n",
                "",
                ""
            ],
            "metadata": {},
            "execution_count": 157
        },
        {
            "cell_type": "markdown",
            "source": [
                "+ Usando multiple dispatch, defina nuevamente la función colormap agregando un nuevo parámetro de entrada $\\tau$, de modo que se pueda usar el test de convergencia para la forma biológica\n"
            ],
            "metadata": {}
        },
        {
            "outputs": [],
            "cell_type": "code",
            "source": [
                "function colormap(f::Function,test::Function,z::Complex,c::Complex,iter::Integer,τ::Integer)\n",
                "\tcolor = 0\n",
                "\tfor i in 1:iter\n",
                "\t\tz = f(z,c)\n",
                "\t\tif !test(z,τ)\n",
                "\t\t\tcolor = i\n",
                "\t\t\tbreak\n",
                "\t\tend\n",
                "\tend \n",
                "\treturn color\n",
                "end\n",
                "",
                ""
            ],
            "metadata": {},
            "execution_count": 158
        },
        {
            "cell_type": "markdown",
            "source": [
                "\n",
                "+ Defina una funcion que retorne el conjunto de puntos que pertenecen al conjunto de Julia.\n",
                "\n"
            ],
            "metadata": {}
        },
        {
            "outputs": [],
            "cell_type": "code",
            "source": [
                "\"\"\"\n",
                "\tsetjulia()\n",
                "Construir un array con los puntos del plano complejo que pertenecen al conjunto, dada la región de análisis del plano complejo\n",
                "Entradas:\n",
                "- f::Function\n",
                "- test::Function\n",
                "- grid::Array{T,2} where T\n",
                "- c::Complex\n",
                "- iter::Integer\n",
                "\"\"\"\n",
                "function setjulia(\n",
                "\t\tf::Function,\n",
                "\t\ttest::Function,\n",
                "\t\tgrid::Array{T,2} where T,\n",
                "\t\tc::Complex,\n",
                "\t\titer::Integer)\n",
                "\treturn [  \n",
                "\t\tcomplex(grid[rz,1],grid[iz,2])\n",
                "\t\tfor rz ∈ 1:length(grid[:,1]) \n",
                "\t\tfor iz ∈ 1:length(grid[:,2]) \n",
                "\t\tif colormap(f,test,complex(grid[rz,1],grid[iz,2]),c,iter)==0\n",
                "\t]\n",
                "end\n",
                "",
                ""
            ],
            "metadata": {},
            "execution_count": 159
        },
        {
            "cell_type": "markdown",
            "source": [
                "\n",
                "+ Defina una funcion que retorne el conjunto de puntos que pertenecen al conjunto de Mandelbrot\n",
                "\n"
            ],
            "metadata": {}
        },
        {
            "outputs": [],
            "cell_type": "code",
            "source": [
                "\"\"\"\n",
                "\tsetmandelbrot()\n",
                "Construir un array con los puntos del plano complejo que pertenecen al conjunto, dada la región de análisis del plano complejo\n",
                "Entradas:\n",
                "- f::Function\n",
                "- test::Function\n",
                "- grid::Array{T,2} where T\n",
                "- iter::Integer\n",
                "\"\"\"\n",
                "function setmandelbrot(\n",
                "\t\tf::Function,\n",
                "\t\ttest::Function,\n",
                "\t\tgrid::Array{T,2} where T,\n",
                "\t\titer::Integer)\n",
                "\treturn [  \n",
                "\t\tcomplex(grid[rz,1],grid[iz,2])\n",
                "\t\tfor rz ∈ 1:length(grid[:,1]) \n",
                "\t\tfor iz ∈ 1:length(grid[:,2]) \n",
                "\t\tif colormap(f,test,complex(0),complex(grid[rz,1],grid[iz,2]),iter)==0\n",
                "\t]\n",
                "end\n",
                "",
                ""
            ],
            "metadata": {},
            "execution_count": 160
        },
        {
            "cell_type": "markdown",
            "source": [
                "\n",
                "+ Defina una funcion que retorne el conjunto de puntos que pertenecen al conjunto de una forma biológica.\n",
                "\n"
            ],
            "metadata": {}
        },
        {
            "outputs": [],
            "cell_type": "code",
            "source": [
                "\"\"\"\n",
                "\tsetbiomorph()\n",
                "Construir un array con los puntos del plano complejo que pertenecen al conjunto, dada la región de análisis del plano complejo\n",
                "Entradas:\n",
                "- f::Function\n",
                "- test::Function\n",
                "- grid::Array{T,2} where T\n",
                "- c::Complex\n",
                "- iter::Integer\n",
                "- τ::Integer\n",
                "\"\"\"\n",
                "function setbiomorph(\n",
                "\t\tf::Function,\n",
                "\t\ttest::Function,\n",
                "\t\tgrid::Array{T,2} where T,\n",
                "\t\tc::Complex,\n",
                "\t\titer::Integer,\n",
                "\t\tτ::Integer)\n",
                "\treturn [  \n",
                "\t\tcomplex(grid[rz,1],grid[iz,2])\n",
                "\t\tfor rz ∈ 1:length(grid[:,1]) \n",
                "\t\tfor iz ∈ 1:length(grid[:,2]) \n",
                "\t\tif colormap(f,test,complex(grid[rz,1],grid[iz,2]),c,iter,τ)==0\n",
                "\t]\n",
                "end\n",
                "",
                ""
            ],
            "metadata": {},
            "execution_count": 161
        },
        {
            "cell_type": "markdown",
            "source": [
                "\n",
                "#### Solución a los incisos\n",
                "\n"
            ],
            "metadata": {}
        },
        {
            "cell_type": "markdown",
            "source": [
                "\n",
                "Usando las definiciones anteriores realice lo indicado.\n",
                "\n"
            ],
            "metadata": {}
        },
        {
            "cell_type": "markdown",
            "source": [
                "\n",
                "+ Para completar los incisos 1-3, defina una grilla\n",
                "\n"
            ],
            "metadata": {}
        },
        {
            "outputs": [],
            "cell_type": "code",
            "source": [
                "begin\n",
                "\tgrilla = makeGrid(Grid(-1.5,1.5,-1.5,1.5,0.02))\n",
                "end\n",
                "",
                ""
            ],
            "metadata": {},
            "execution_count": 162
        },
        {
            "cell_type": "markdown",
            "source": [
                "\n",
                "########## 1) Graficar un conjunto de Julia, para un $c$ arbitrario (monocromático).\n",
                "\n"
            ],
            "metadata": {}
        },
        {
            "outputs": [],
            "cell_type": "code",
            "source": [
                "begin\n",
                "\tc₁ = complex(-0.2,0.5)\n",
                "\tset₁ = setjulia(fⱼₘ,testJM,grilla,c₁,200)\n",
                "end\n",
                "",
                ""
            ],
            "metadata": {},
            "execution_count": 163
        },
        {
            "outputs": [],
            "cell_type": "code",
            "source": [
                "begin\n",
                "\ttheme(:solarized)\n",
                "\tscatter(set₁,seriescolor=:white,markerstrokecolor=:white,aspectratio=1,title=\"Conjunto de Julia c = $c₁\")\n",
                "end\n",
                "",
                ""
            ],
            "metadata": {},
            "execution_count": 164
        },
        {
            "cell_type": "markdown",
            "source": [
                "\n",
                "########## 2) Graficar el conjunto de Mandelbrot (monocromático).\n",
                "\n"
            ],
            "metadata": {}
        },
        {
            "outputs": [],
            "cell_type": "code",
            "source": [
                "begin\n",
                "\tset₂ = setmandelbrot(fⱼₘ,testJM,grilla,200)\n",
                "end\n",
                "",
                ""
            ],
            "metadata": {},
            "execution_count": 165
        },
        {
            "outputs": [],
            "cell_type": "code",
            "source": [
                "begin\n",
                "\ttheme(:solarized)\n",
                "\tscatter(set₂,seriescolor=:white,markerstrokecolor=:white,aspectratio=1,title=\"Conjunto de Mandelbrot\")\n",
                "end\n",
                "",
                ""
            ],
            "metadata": {},
            "execution_count": 166
        },
        {
            "cell_type": "markdown",
            "source": [
                "\n",
                "########## 3) Graficar una forma biológica, par un c arbitrario (monocromático).\n",
                "\n"
            ],
            "metadata": {}
        },
        {
            "outputs": [],
            "cell_type": "code",
            "source": [
                "begin\n",
                "\tc₂ = complex(-0.5,-0.5)\n",
                "\tτ = 100\n",
                "\tset₃ = setbiomorph(f₄,testbiomorph,grilla,c₂,200,τ)\n",
                "end\n",
                "",
                ""
            ],
            "metadata": {},
            "execution_count": 167
        },
        {
            "outputs": [],
            "cell_type": "code",
            "source": [
                "begin\n",
                "\ttheme(:solarized)\n",
                "\tscatter(set₃,seriescolor=:white,markerstrokecolor=:white,aspectratio=1,title=\"Forma Biológica\")\n",
                "end\n",
                "",
                ""
            ],
            "metadata": {},
            "execution_count": 168
        },
        {
            "cell_type": "markdown",
            "source": [
                "\n",
                "########## 4) Hacer una gráfica a color del conjunto de Mandelbrot \n",
                "\n",
                "Usando el algoritmo de Tiempo de Escape y multiple dispatch, defina nuevamente la función setmandelbrot, para obtener los datos necesarios (matriz) que defina los colores para cada punto de una región arbitraria. \n",
                "\n"
            ],
            "metadata": {}
        },
        {
            "outputs": [],
            "cell_type": "code",
            "source": [
                "\"\"\"\n",
                "\tsetmandelbrot(f::Function,test::Function,grid::Array{T,1} where T,iter::Integer)\n",
                "Crear una matriz de enteros correspondiente a los colores \n",
                "\"\"\"\n",
                "function setmandelbrot(\n",
                "\t\tf::Function,\n",
                "\t\ttest::Function,\n",
                "\t\tgrid::Array{T,1} where T,\n",
                "\t\titer::Integer\n",
                "\t)\n",
                "\treturn [  \n",
                "\t\t\tcolormap(f,test,complex(0),complex(grid[1][rz],grid[2][iz]),iter)\n",
                "\t\t\tfor rz ∈ 1:length(grid[1]), iz ∈ 1:length(grid[2]) \n",
                "\t\t]'\n",
                "end\n",
                "",
                ""
            ],
            "metadata": {},
            "execution_count": 169
        },
        {
            "outputs": [],
            "cell_type": "code",
            "source": [
                "begin\n",
                "\trzₘ = -2:0.009:1\n",
                "\tizₘ = -1:0.009:1\n",
                "\tcoloresₘ = setmandelbrot(fⱼₘ,testJM,[rzₘ,izₘ],30)\n",
                "\theatmap(\n",
                "\t\trzₘ,\n",
                "\t\tizₘ,\n",
                "\t\tcoloresₘ,\n",
                "\t\tcolor=cgrad([:black,:red,:white]),\n",
                "\t\ttitle=\"Conjunto de Mandelbrot Coloreado\",\n",
                "\t\txlabel=\"Re(z)\",\n",
                "\t\tylabel=\"Im(z)\"\n",
                "\t)\n",
                "end\n",
                "",
                ""
            ],
            "metadata": {},
            "execution_count": 170
        },
        {
            "cell_type": "markdown",
            "source": [
                "\n",
                "########## 5) Realizar una gráfica a color para un conjunto de Julia, para un $c$ arbitrario.\n",
                "\n",
                "Usando el algoritmo de Tiempo de Escape y multiple dispatch, defina nuevamente la función setjulia, para obtener los datos necesarios (matriz) que defina los colores para cada punto de una región arbitraria. \n",
                "\n"
            ],
            "metadata": {}
        },
        {
            "outputs": [],
            "cell_type": "code",
            "source": [
                "function setjulia(\n",
                "\t\tf::Function,\n",
                "\t\ttest::Function,\n",
                "\t\tgrid::Array{T,1} where T,\n",
                "\t\tc::Complex,\n",
                "\t\titer::Integer\n",
                "\t)\n",
                "\treturn [  \n",
                "\t\tcolormap(f,test,complex(grid[1][rz],grid[2][iz]),c,iter)\n",
                "\t\tfor rz ∈ 1:length(grid[1]), iz ∈ 1:length(grid[2]) \n",
                "\t]'\n",
                "end\n",
                "",
                ""
            ],
            "metadata": {},
            "execution_count": 171
        },
        {
            "outputs": [],
            "cell_type": "code",
            "source": [
                "begin\n",
                "\trzⱼ = -1:0.003:1\n",
                "\tizⱼ = -1.2:0.003:1.2\n",
                "\tcoloresⱼ = setjulia(fⱼₘ,testJM,[rzⱼ,izⱼ],complex(0.279),40)\n",
                "\theatmap(\n",
                "\t\trzⱼ,\n",
                "\t\tizⱼ,\n",
                "\t\tcoloresⱼ,\n",
                "\t\tcolor=cgrad([:black,:darkblue,:green,:yellow,:red]),\n",
                "\t\ttitle=\"Conjunto de Julia Coloreado\",\n",
                "\t\txlabel=\"Re(z)\",\n",
                "\t\tylabel=\"Im(z)\",\n",
                "\t\taspectratio=1\n",
                "\t)\n",
                "end\n",
                "",
                ""
            ],
            "metadata": {},
            "execution_count": 172
        },
        {
            "cell_type": "markdown",
            "source": [
                "\n",
                "########## 6) Realizar una gráfica a color para una forma biológica.\n",
                "\n",
                "Usando el algoritmo de Tiempo de Escape y multiple dispatch, defina nuevamente la función setbiomorph, para obtener los datos necesarios (matriz) que defina los colores para cada punto de una región arbitraria.\n",
                "\n"
            ],
            "metadata": {}
        },
        {
            "outputs": [],
            "cell_type": "code",
            "source": [
                "function setbiomorph(\n",
                "\t\tf::Function,\n",
                "\t\ttest::Function,\n",
                "\t\tgrid::Array{T,1} where T,\n",
                "\t\tc::Complex,\n",
                "\t\titer::Integer,\n",
                "\t\tτ::Integer)\n",
                "\treturn [  \n",
                "\t\tcolormap(f,test,complex(grid[1][rz],grid[2][iz]),c,iter,τ)\n",
                "\t\tfor rz ∈ 1:length(grid[1]), iz ∈ 1:length(grid[2]) \n",
                "\t]'\n",
                "end\n",
                "",
                ""
            ],
            "metadata": {},
            "execution_count": 173
        },
        {
            "outputs": [],
            "cell_type": "code",
            "source": [
                "begin\n",
                "\trzb = -1.5:0.003:1.5\n",
                "\tizb = -1.5:0.003:1.5\n",
                "\tcoloresb = setbiomorph(f₄,testbiomorph,[rzb,izb],c₂,40,100)\n",
                "\theatmap(\n",
                "\t\trzb,\n",
                "\t\tizb,\n",
                "\t\tcoloresb,\n",
                "\t\tcolor=cgrad([:black,:darkblue,:green,:yellow,:red]),\n",
                "\t\ttitle=\"Forma Biológica Coloreado\",\n",
                "\t\txlabel=\"Re(z)\",\n",
                "\t\tylabel=\"Im(z)\"\n",
                "\t)\n",
                "end\n",
                "",
                ""
            ],
            "metadata": {},
            "execution_count": 174
        },
        {
            "cell_type": "markdown",
            "source": [
                "\n",
                "########## 7) Completar un ejercicio que forma parte de los  challenges problems.\n",
                "\n"
            ],
            "metadata": {}
        }
    ],
    "nbformat_minor": 2,
    "metadata": {
        "language_info": {
            "file_extension": ".jl",
            "mimetype": "application/julia",
            "name": "julia",
            "version": "1.5.1"
        },
        "kernelspec": {
            "name": "julia-1.5",
            "display_name": "Julia 1.5.1",
            "language": "julia"
        }
    },
    "nbformat": 4
}
